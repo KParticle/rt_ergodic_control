{
 "cells": [
  {
   "cell_type": "markdown",
   "metadata": {},
   "source": [
    "# Basis function test"
   ]
  },
  {
   "cell_type": "code",
   "execution_count": 1,
   "metadata": {},
   "outputs": [],
   "source": [
    "import sys\n",
    "sys.path.append('../rt_erg_lib/')\n",
    "import autograd.numpy as np\n",
    "import autograd.numpy.random as npr\n",
    "from autograd import jacobian\n",
    "\n",
    "from basis import Basis\n",
    "from gym.spaces import Box\n",
    "\n",
    "from utils import convert_traj2ck"
   ]
  },
  {
   "cell_type": "code",
   "execution_count": 2,
   "metadata": {},
   "outputs": [],
   "source": [
    "explr_space = Box(np.array([0., 0.]), np.array([1.0, 1.0]), dtype=np.float32)\n",
    "basis = Basis(explr_space=explr_space, num_basis=4)\n",
    "\n",
    "xt = [explr_space.sample() for _ in range(10)]"
   ]
  },
  {
   "cell_type": "code",
   "execution_count": 3,
   "metadata": {},
   "outputs": [
    {
     "data": {
      "text/plain": [
       "array([[0, 0],\n",
       "       [1, 0],\n",
       "       [2, 0],\n",
       "       [3, 0],\n",
       "       [0, 1],\n",
       "       [1, 1],\n",
       "       [2, 1],\n",
       "       [3, 1],\n",
       "       [0, 2],\n",
       "       [1, 2],\n",
       "       [2, 2],\n",
       "       [3, 2],\n",
       "       [0, 3],\n",
       "       [1, 3],\n",
       "       [2, 3],\n",
       "       [3, 3]])"
      ]
     },
     "execution_count": 3,
     "metadata": {},
     "output_type": "execute_result"
    }
   ],
   "source": [
    "basis.k"
   ]
  },
  {
   "cell_type": "code",
   "execution_count": 4,
   "metadata": {},
   "outputs": [
    {
     "data": {
      "text/plain": [
       "array([1.        , 0.98291879, 0.93225869, 0.84975037, 0.87500881,\n",
       "       0.8600626 , 0.81573457, 0.74353907, 0.53128085, 0.52220593,\n",
       "       0.49529119, 0.4514561 , 0.05474203, 0.05380697, 0.05103374,\n",
       "       0.04651706])"
      ]
     },
     "execution_count": 4,
     "metadata": {},
     "output_type": "execute_result"
    }
   ],
   "source": [
    "basis.fk(xt[0])"
   ]
  },
  {
   "cell_type": "code",
   "execution_count": 5,
   "metadata": {},
   "outputs": [
    {
     "data": {
      "text/plain": [
       "array([[ 0.        ,  0.        ],\n",
       "       [-0.57817813,  0.        ],\n",
       "       [-2.2732086 ,  0.        ],\n",
       "       [-4.96860394,  0.        ],\n",
       "       [ 0.        , -1.52086688],\n",
       "       [-0.50591097, -1.49488863],\n",
       "       [-1.98907759, -1.41784137],\n",
       "       [-4.34757231, -1.29235721],\n",
       "       [ 0.        , -5.32308778],\n",
       "       [-0.307175  , -5.23216299],\n",
       "       [-1.2077123 , -4.96249485],\n",
       "       [-2.63972436, -4.52329587],\n",
       "       [ 0.        , -9.41064575],\n",
       "       [-0.0316507 , -9.24990053],\n",
       "       [-0.12444026, -8.7731563 ],\n",
       "       [-0.27199192, -7.99669981]])"
      ]
     },
     "execution_count": 5,
     "metadata": {},
     "output_type": "execute_result"
    }
   ],
   "source": [
    "basis.dfk(xt[0])"
   ]
  },
  {
   "cell_type": "code",
   "execution_count": 6,
   "metadata": {},
   "outputs": [],
   "source": [
    "k = basis.k[6]\n"
   ]
  },
  {
   "cell_type": "code",
   "execution_count": 7,
   "metadata": {},
   "outputs": [
    {
     "data": {
      "text/plain": [
       "78.95683520871486"
      ]
     },
     "execution_count": 7,
     "metadata": {},
     "output_type": "execute_result"
    }
   ],
   "source": [
    "np.prod(basis.dl * (2.0 * k * np.pi + np.sin(2.0 * k *np.pi)))"
   ]
  },
  {
   "cell_type": "code",
   "execution_count": 8,
   "metadata": {},
   "outputs": [
    {
     "data": {
      "text/plain": [
       "315.82734083485946"
      ]
     },
     "execution_count": 8,
     "metadata": {},
     "output_type": "execute_result"
    }
   ],
   "source": [
    "(16 * np.prod(k)*np.pi**2)"
   ]
  },
  {
   "cell_type": "code",
   "execution_count": 9,
   "metadata": {},
   "outputs": [
    {
     "data": {
      "text/plain": [
       "array([1.  , 1.  , 1.  , 1.  , 1.  , 0.25, 0.25, 0.25, 1.  , 0.25, 0.25,\n",
       "       0.25, 1.  , 0.25, 0.25, 0.25])"
      ]
     },
     "execution_count": 9,
     "metadata": {},
     "output_type": "execute_result"
    }
   ],
   "source": [
    "basis.hk"
   ]
  },
  {
   "cell_type": "markdown",
   "metadata": {},
   "source": [
    "## This is how you would compute the cks"
   ]
  },
  {
   "cell_type": "code",
   "execution_count": 10,
   "metadata": {},
   "outputs": [
    {
     "data": {
      "text/plain": [
       "array([ 1.        , -0.18715062,  0.04651382, -0.0051779 ,  0.29957076,\n",
       "       -0.15635735,  0.02879715,  0.30309226,  0.17032161,  0.01935388,\n",
       "       -0.0548842 ,  0.07465715, -0.12467017,  0.02819816,  0.25347021,\n",
       "       -0.02133668])"
      ]
     },
     "execution_count": 10,
     "metadata": {},
     "output_type": "execute_result"
    }
   ],
   "source": [
    "convert_traj2ck(basis, xt)"
   ]
  },
  {
   "cell_type": "markdown",
   "metadata": {},
   "source": [
    "# Barrier Function Test"
   ]
  },
  {
   "cell_type": "code",
   "execution_count": 11,
   "metadata": {},
   "outputs": [],
   "source": [
    "import autograd.numpy as np\n",
    "from barrier import Barrier\n",
    "from gym.spaces import Box"
   ]
  },
  {
   "cell_type": "code",
   "execution_count": 12,
   "metadata": {},
   "outputs": [],
   "source": [
    "explr_space = Box(np.array([0., 0.]), np.array([1.0, 1.0]), dtype=np.float32)\n",
    "barrier = Barrier(explr_space)"
   ]
  },
  {
   "cell_type": "code",
   "execution_count": 13,
   "metadata": {},
   "outputs": [
    {
     "data": {
      "text/plain": [
       "46.12734317779541"
      ]
     },
     "execution_count": 13,
     "metadata": {},
     "output_type": "execute_result"
    }
   ],
   "source": [
    "barrier.cost(explr_space.sample()-1)"
   ]
  },
  {
   "cell_type": "code",
   "execution_count": 14,
   "metadata": {},
   "outputs": [
    {
     "data": {
      "text/plain": [
       "array([ -46.99380696, -145.47357559])"
      ]
     },
     "execution_count": 14,
     "metadata": {},
     "output_type": "execute_result"
    }
   ],
   "source": [
    "barrier.dx(explr_space.sample()-1)"
   ]
  },
  {
   "cell_type": "markdown",
   "metadata": {},
   "source": [
    "# Target Distribution test"
   ]
  },
  {
   "cell_type": "code",
   "execution_count": 15,
   "metadata": {},
   "outputs": [],
   "source": [
    "from target_dist import TargetDist\n",
    "from utils import convert_phi2phik, convert_phik2phi\n",
    "\n",
    "# import again for independence between cells\n",
    "import autograd.numpy as np\n",
    "from basis import Basis\n",
    "from gym.spaces import Box\n",
    "\n",
    "import matplotlib.pyplot as plt"
   ]
  },
  {
   "cell_type": "code",
   "execution_count": 16,
   "metadata": {},
   "outputs": [
    {
     "name": "stdout",
     "output_type": "stream",
     "text": [
      "means:  [array([0.7, 0.7]), array([0.3, 0.3])]\n"
     ]
    }
   ],
   "source": [
    "t_dist = TargetDist(num_nodes=5)"
   ]
  },
  {
   "cell_type": "code",
   "execution_count": 17,
   "metadata": {},
   "outputs": [],
   "source": [
    "xy, vals = t_dist.get_grid_spec()"
   ]
  },
  {
   "cell_type": "code",
   "execution_count": 18,
   "metadata": {},
   "outputs": [
    {
     "data": {
      "text/plain": [
       "<matplotlib.contour.QuadContourSet at 0x7f9a129c9dd8>"
      ]
     },
     "execution_count": 18,
     "metadata": {},
     "output_type": "execute_result"
    },
    {
     "data": {
      "image/png": "[encoded data removed]",
      "text/plain": [
       "<Figure size 432x288 with 1 Axes>"
      ]
     },
     "metadata": {
      "needs_background": "light"
     },
     "output_type": "display_data"
    }
   ],
   "source": [
    "plt.contourf(*xy, vals, levels=10)"
   ]
  },
  {
   "cell_type": "markdown",
   "metadata": {},
   "source": [
    "## Checking to see if the phiks can be computed from the phik class template"
   ]
  },
  {
   "cell_type": "code",
   "execution_count": 19,
   "metadata": {},
   "outputs": [
    {
     "name": "stdout",
     "output_type": "stream",
     "text": [
      "[ 1.00000000e+00 -5.92552486e-19 -2.54807273e-01  5.74094050e-17\n",
      " -3.68471761e-01 -1.84543439e-16  1.36385912e-01  3.42910171e-17\n",
      "  1.26585564e-02  9.01666043e-17 -1.13794112e-17  3.12567298e-01\n",
      "  6.54055019e-17 -3.41833316e-01 -1.42199203e-16 -4.06392783e-04\n",
      " -3.91878205e-17  4.71002848e-02  1.32591891e-17 -6.26968106e-03\n",
      " -2.54807273e-01  1.47563674e-16  6.49267463e-02 -1.50648992e-16\n",
      "  9.38892845e-02  4.79366120e-17 -3.47521224e-02  1.35827556e-17\n",
      " -3.22549222e-03 -2.59785534e-17  2.17061987e-16 -3.41833316e-01\n",
      " -1.53007026e-16  3.73839544e-01  9.69752139e-18  4.44443785e-04\n",
      "  8.55225344e-17 -5.15103361e-02 -2.88187078e-18  6.85671816e-03\n",
      " -3.68471761e-01 -1.47881418e-16  9.38892845e-02 -9.06384016e-17\n",
      "  1.35771439e-01  7.89176891e-17 -5.02543573e-02  2.07666009e-18\n",
      " -4.66432056e-03 -1.89041343e-17 -7.37210361e-17 -4.06392783e-04\n",
      "  1.03325473e-16  4.44443785e-04  8.30980085e-17  5.28382513e-07\n",
      " -6.66175531e-18 -6.12387027e-05  4.70754442e-18  8.15169453e-06\n",
      "  1.36385912e-01 -9.97970513e-17 -3.47521224e-02  1.37044055e-16\n",
      " -5.02543573e-02 -3.05325202e-17  1.86011171e-02 -2.13692119e-17\n",
      "  1.72644876e-03  1.22666782e-17 -1.25979581e-16  4.71002848e-02\n",
      "  4.70282751e-17 -5.15103361e-02 -4.01215684e-17 -6.12387027e-05\n",
      " -3.22218215e-17  7.09746940e-03  3.10834622e-18 -9.44768584e-04\n",
      "  1.26585564e-02  5.49185987e-17 -3.22549222e-03 -5.55102513e-17\n",
      " -4.66432056e-03  3.29458759e-18  1.72644876e-03  6.65741427e-18\n",
      "  1.60239049e-04 -1.51624192e-18  4.32643783e-17 -6.26968106e-03\n",
      " -4.25268244e-17  6.85671816e-03 -1.76785835e-17  8.15169453e-06\n",
      "  3.77369060e-18 -9.44768584e-04 -1.21490994e-18  1.25761399e-04]\n"
     ]
    }
   ],
   "source": [
    "explr_space = Box(np.array([0., 0.]), np.array([1.0, 1.0]), dtype=np.float32)\n",
    "basis = Basis(explr_space=explr_space, num_basis=10)\n",
    "\n",
    "phik = convert_phi2phik(basis, t_dist.grid_vals, t_dist.grid)\n",
    "print(phik)"
   ]
  },
  {
   "cell_type": "code",
   "execution_count": 20,
   "metadata": {},
   "outputs": [],
   "source": [
    "phi = convert_phik2phi(basis, phik, t_dist.grid)"
   ]
  },
  {
   "cell_type": "code",
   "execution_count": 21,
   "metadata": {},
   "outputs": [
    {
     "data": {
      "text/plain": [
       "<matplotlib.contour.QuadContourSet at 0x7f9a12289e80>"
      ]
     },
     "execution_count": 21,
     "metadata": {},
     "output_type": "execute_result"
    },
    {
     "data": {
      "image/png": "[encoded data removed]",
      "text/plain": [
       "<Figure size 432x288 with 1 Axes>"
      ]
     },
     "metadata": {
      "needs_background": "light"
     },
     "output_type": "display_data"
    }
   ],
   "source": [
    "plt.contourf(phi.reshape(50,50))"
   ]
  },
  {
   "cell_type": "code",
   "execution_count": 22,
   "metadata": {},
   "outputs": [
    {
     "data": {
      "text/plain": [
       "0.27603096135575583"
      ]
     },
     "execution_count": 22,
     "metadata": {},
     "output_type": "execute_result"
    }
   ],
   "source": [
    "np.min(phi)"
   ]
  },
  {
   "cell_type": "markdown",
   "metadata": {},
   "source": [
    "# Testing the ergodic controller "
   ]
  },
  {
   "cell_type": "code",
   "execution_count": 2,
   "metadata": {},
   "outputs": [],
   "source": [
    "from single_integrator import SingleIntegrator\n",
    "from ergodic_control import RTErgodicControl\n",
    "from target_dist import TargetDist\n",
    "from utils import convert_phi2phik, convert_ck2dist, convert_traj2ck, convert_phik2phi\n",
    "import autograd.numpy as np\n",
    "\n",
    "from agent_base import Agent\n",
    "\n",
    "import matplotlib.pyplot as plt"
   ]
  },
  {
   "cell_type": "code",
   "execution_count": 3,
   "metadata": {},
   "outputs": [
    {
     "name": "stdout",
     "output_type": "stream",
     "text": [
      "means:  [array([0.7, 0.7]), array([0.3, 0.3])]\n"
     ]
    }
   ],
   "source": [
    "# env = SingleIntegrator()\n",
    "# model = SingleIntegrator()\n",
    "# t_dist = TargetDist(num_nodes=2)\n",
    "# erg_ctrl = RTErgodicControl(model, t_dist, horizon=15, num_basis=10, batch_size=100)\n",
    "agent = Agent()"
   ]
  },
  {
   "cell_type": "markdown",
   "metadata": {},
   "source": [
    "Checking to make sure that the phiks are set right"
   ]
  },
  {
   "cell_type": "code",
   "execution_count": 4,
   "metadata": {},
   "outputs": [
    {
     "ename": "NameError",
     "evalue": "name 'erg_ctrl' is not defined",
     "output_type": "error",
     "traceback": [
      "\u001b[0;31m---------------------------------------------------------------------------\u001b[0m",
      "\u001b[0;31mNameError\u001b[0m                                 Traceback (most recent call last)",
      "\u001b[0;32m<ipython-input-4-d4ddf5b0d6c5>\u001b[0m in \u001b[0;36m<module>\u001b[0;34m\u001b[0m\n\u001b[0;32m----> 1\u001b[0;31m \u001b[0merg_ctrl\u001b[0m\u001b[0;34m.\u001b[0m\u001b[0mphik\u001b[0m \u001b[0;34m=\u001b[0m \u001b[0mconvert_phi2phik\u001b[0m\u001b[0;34m(\u001b[0m\u001b[0merg_ctrl\u001b[0m\u001b[0;34m.\u001b[0m\u001b[0mbasis\u001b[0m\u001b[0;34m,\u001b[0m \u001b[0mt_dist\u001b[0m\u001b[0;34m.\u001b[0m\u001b[0mgrid_vals\u001b[0m\u001b[0;34m,\u001b[0m \u001b[0mt_dist\u001b[0m\u001b[0;34m.\u001b[0m\u001b[0mgrid\u001b[0m\u001b[0;34m)\u001b[0m\u001b[0;34m\u001b[0m\u001b[0;34m\u001b[0m\u001b[0m\n\u001b[0m\u001b[1;32m      2\u001b[0m \u001b[0merg_ctrl\u001b[0m\u001b[0;34m.\u001b[0m\u001b[0mphik\u001b[0m\u001b[0;34m\u001b[0m\u001b[0;34m\u001b[0m\u001b[0m\n",
      "\u001b[0;31mNameError\u001b[0m: name 'erg_ctrl' is not defined"
     ]
    }
   ],
   "source": [
    "erg_ctrl.phik = convert_phi2phik(erg_ctrl.basis, t_dist.grid_vals, t_dist.grid)\n",
    "erg_ctrl.phik"
   ]
  },
  {
   "cell_type": "code",
   "execution_count": 12,
   "metadata": {},
   "outputs": [
    {
     "name": "stdout",
     "output_type": "stream",
     "text": [
      "doneee\n"
     ]
    }
   ],
   "source": [
    "log = {'trajectory' : []}\n",
    "state = agent.reset()\n",
    "for t in range(600):\n",
    "    state = agent.control_step()\n",
    "    log['trajectory'].append(state)\n",
    "print('doneee')"
   ]
  },
  {
   "cell_type": "code",
   "execution_count": 13,
   "metadata": {},
   "outputs": [
    {
     "data": {
      "text/plain": [
       "<matplotlib.collections.PathCollection at 0x7fcf77538908>"
      ]
     },
     "execution_count": 13,
     "metadata": {},
     "output_type": "execute_result"
    },
    {
     "data": {
      "image/png": "[encoded data removed]",
      "text/plain": [
       "<Figure size 432x288 with 1 Axes>"
      ]
     },
     "metadata": {
      "needs_background": "light"
     },
     "output_type": "display_data"
    }
   ],
   "source": [
    "xy, vals = agent.t_dist.get_grid_spec()\n",
    "plt.contourf(*xy, vals, levels=10)\n",
    "xt = np.stack(log['trajectory'])\n",
    "\n",
    "tf = 400\n",
    "plt.scatter(xt[:tf,0], xt[:tf,1])"
   ]
  },
  {
   "cell_type": "markdown",
   "metadata": {},
   "source": [
    "Trajectroy statistics are reconstructed"
   ]
  },
  {
   "cell_type": "code",
   "execution_count": 7,
   "metadata": {},
   "outputs": [
    {
     "ename": "NameError",
     "evalue": "name 'model' is not defined",
     "output_type": "error",
     "traceback": [
      "\u001b[0;31m---------------------------------------------------------------------------\u001b[0m",
      "\u001b[0;31mNameError\u001b[0m                                 Traceback (most recent call last)",
      "\u001b[0;32m<ipython-input-7-4469acfb71d1>\u001b[0m in \u001b[0;36m<module>\u001b[0;34m\u001b[0m\n\u001b[1;32m      1\u001b[0m \u001b[0;31m# path = [np.random.normal(0.2, 0.1,size=(2,)) for _ in range(50)] + [np.random.normal(0.7, 0.1,size=(2,))  for _ in range(50)]\u001b[0m\u001b[0;34m\u001b[0m\u001b[0;34m\u001b[0m\u001b[0;34m\u001b[0m\u001b[0m\n\u001b[0;32m----> 2\u001b[0;31m \u001b[0mpath\u001b[0m \u001b[0;34m=\u001b[0m \u001b[0mnp\u001b[0m\u001b[0;34m.\u001b[0m\u001b[0mstack\u001b[0m\u001b[0;34m(\u001b[0m\u001b[0mlog\u001b[0m\u001b[0;34m[\u001b[0m\u001b[0;34m'trajectory'\u001b[0m\u001b[0;34m]\u001b[0m\u001b[0;34m)\u001b[0m\u001b[0;34m[\u001b[0m\u001b[0;34m:\u001b[0m\u001b[0mtf\u001b[0m\u001b[0;34m,\u001b[0m\u001b[0mmodel\u001b[0m\u001b[0;34m.\u001b[0m\u001b[0mexplr_idx\u001b[0m\u001b[0;34m]\u001b[0m\u001b[0;34m\u001b[0m\u001b[0;34m\u001b[0m\u001b[0m\n\u001b[0m\u001b[1;32m      3\u001b[0m \u001b[0mck\u001b[0m \u001b[0;34m=\u001b[0m \u001b[0mconvert_traj2ck\u001b[0m\u001b[0;34m(\u001b[0m\u001b[0merg_ctrl\u001b[0m\u001b[0;34m.\u001b[0m\u001b[0mbasis\u001b[0m\u001b[0;34m,\u001b[0m \u001b[0mpath\u001b[0m\u001b[0;34m)\u001b[0m\u001b[0;34m\u001b[0m\u001b[0;34m\u001b[0m\u001b[0m\n\u001b[1;32m      4\u001b[0m \u001b[0mval\u001b[0m \u001b[0;34m=\u001b[0m \u001b[0mconvert_ck2dist\u001b[0m\u001b[0;34m(\u001b[0m\u001b[0merg_ctrl\u001b[0m\u001b[0;34m.\u001b[0m\u001b[0mbasis\u001b[0m\u001b[0;34m,\u001b[0m \u001b[0mck\u001b[0m\u001b[0;34m)\u001b[0m\u001b[0;34m\u001b[0m\u001b[0;34m\u001b[0m\u001b[0m\n",
      "\u001b[0;31mNameError\u001b[0m: name 'model' is not defined"
     ]
    }
   ],
   "source": [
    "# path = [np.random.normal(0.2, 0.1,size=(2,)) for _ in range(50)] + [np.random.normal(0.7, 0.1,size=(2,))  for _ in range(50)]\n",
    "path = np.stack(log['trajectory'])[:tf,model.explr_idx]\n",
    "ck = convert_traj2ck(erg_ctrl.basis, path)\n",
    "val = convert_ck2dist(erg_ctrl.basis, ck)"
   ]
  },
  {
   "cell_type": "code",
   "execution_count": 8,
   "metadata": {},
   "outputs": [
    {
     "ename": "NameError",
     "evalue": "name 'val' is not defined",
     "output_type": "error",
     "traceback": [
      "\u001b[0;31m---------------------------------------------------------------------------\u001b[0m",
      "\u001b[0;31mNameError\u001b[0m                                 Traceback (most recent call last)",
      "\u001b[0;32m<ipython-input-8-6a22b3dbec96>\u001b[0m in \u001b[0;36m<module>\u001b[0;34m\u001b[0m\n\u001b[0;32m----> 1\u001b[0;31m \u001b[0mplt\u001b[0m\u001b[0;34m.\u001b[0m\u001b[0mcontourf\u001b[0m\u001b[0;34m(\u001b[0m\u001b[0;34m*\u001b[0m\u001b[0mxy\u001b[0m\u001b[0;34m,\u001b[0m \u001b[0mval\u001b[0m\u001b[0;34m.\u001b[0m\u001b[0mreshape\u001b[0m\u001b[0;34m(\u001b[0m\u001b[0;36m50\u001b[0m\u001b[0;34m,\u001b[0m\u001b[0;36m50\u001b[0m\u001b[0;34m)\u001b[0m\u001b[0;34m,\u001b[0m \u001b[0mlevels\u001b[0m\u001b[0;34m=\u001b[0m\u001b[0;36m10\u001b[0m\u001b[0;34m)\u001b[0m\u001b[0;34m\u001b[0m\u001b[0;34m\u001b[0m\u001b[0m\n\u001b[0m",
      "\u001b[0;31mNameError\u001b[0m: name 'val' is not defined"
     ]
    }
   ],
   "source": [
    "plt.contourf(*xy, val.reshape(50,50), levels=10)"
   ]
  },
  {
   "cell_type": "markdown",
   "metadata": {},
   "source": [
    "Testing the $\\phi_k$ reconstruction"
   ]
  },
  {
   "cell_type": "code",
   "execution_count": 30,
   "metadata": {},
   "outputs": [],
   "source": [
    "phi = convert_phik2phi(erg_ctrl.basis, erg_ctrl.phik, t_dist.grid)"
   ]
  },
  {
   "cell_type": "code",
   "execution_count": 31,
   "metadata": {},
   "outputs": [
    {
     "data": {
      "text/plain": [
       "<matplotlib.contour.QuadContourSet at 0x7f9a12162e10>"
      ]
     },
     "execution_count": 31,
     "metadata": {},
     "output_type": "execute_result"
    },
    {
     "data": {
      "image/png": "[encoded data removed]",
      "text/plain": [
       "<Figure size 432x288 with 1 Axes>"
      ]
     },
     "metadata": {
      "needs_background": "light"
     },
     "output_type": "display_data"
    }
   ],
   "source": [
    "plt.contourf(*xy, phi.reshape(50,50), levels=10)"
   ]
  },
  {
   "cell_type": "markdown",
   "metadata": {},
   "source": [
    "### In case you want to profile"
   ]
  },
  {
   "cell_type": "code",
   "execution_count": 31,
   "metadata": {},
   "outputs": [
    {
     "name": "stdout",
     "output_type": "stream",
     "text": [
      "2.05 ms ± 32.6 µs per loop (mean ± std. dev. of 7 runs, 100 loops each)\n"
     ]
    }
   ],
   "source": [
    "%timeit erg_ctrl(state)"
   ]
  },
  {
   "cell_type": "code",
   "execution_count": null,
   "metadata": {},
   "outputs": [],
   "source": []
  }
 ],
 "metadata": {
  "kernelspec": {
   "display_name": "Python 3",
   "language": "python",
   "name": "python3"
  },
  "language_info": {
   "codemirror_mode": {
    "name": "ipython",
    "version": 3
   },
   "file_extension": ".py",
   "mimetype": "text/x-python",
   "name": "python",
   "nbconvert_exporter": "python",
   "pygments_lexer": "ipython3",
   "version": "3.6.9"
  }
 },
 "nbformat": 4,
 "nbformat_minor": 4
}
